{
 "cells": [
  {
   "cell_type": "code",
   "execution_count": 7,
   "id": "nominated-colleague",
   "metadata": {},
   "outputs": [],
   "source": [
    "import numpy as np\n",
    "import pandas as pd"
   ]
  },
  {
   "cell_type": "code",
   "execution_count": 19,
   "id": "metropolitan-stretch",
   "metadata": {},
   "outputs": [],
   "source": [
    "from estimagic.config import IS_DFOLS_INSTALLED\n",
    "from estimagic.config import IS_PETSC4PY_INSTALLED\n",
    "from estimagic.config import IS_PYBOBYQA_INSTALLED"
   ]
  },
  {
   "cell_type": "code",
   "execution_count": 15,
   "id": "toxic-settlement",
   "metadata": {},
   "outputs": [],
   "source": [
    "from estimagic.examples.criterion_functions_optimization_tests import (\n",
    "    rosenbrock_criterion_and_gradient,\n",
    ")\n",
    "from estimagic.examples.criterion_functions_optimization_tests import (\n",
    "    rosenbrock_dict_criterion,\n",
    ")\n",
    "from estimagic.examples.criterion_functions_optimization_tests import (\n",
    "    rosenbrock_gradient,\n",
    ")\n",
    "from estimagic.examples.criterion_functions_optimization_tests import (\n",
    "    rosenbrock_pandas_gradient,\n",
    ")\n",
    "from estimagic.examples.criterion_functions_optimization_tests import (\n",
    "    rosenbrock_scalar_criterion,\n",
    ")\n",
    "from estimagic.examples.criterion_functions_optimization_tests import (\n",
    "    rotated_hyper_ellipsoid_criterion_and_gradient,\n",
    ")\n",
    "from estimagic.examples.criterion_functions_optimization_tests import (\n",
    "    rotated_hyper_ellipsoid_dict_criterion,\n",
    ")\n",
    "from estimagic.examples.criterion_functions_optimization_tests import (\n",
    "    rotated_hyper_ellipsoid_gradient,\n",
    ")\n",
    "from estimagic.examples.criterion_functions_optimization_tests import (\n",
    "    rotated_hyper_ellipsoid_pandas_gradient,\n",
    ")\n",
    "from estimagic.examples.criterion_functions_optimization_tests import (\n",
    "    rotated_hyper_ellipsoid_scalar_criterion,\n",
    ")\n",
    "from estimagic.examples.criterion_functions_optimization_tests import (\n",
    "    trid_criterion_and_gradient,\n",
    ")\n",
    "from estimagic.examples.criterion_functions_optimization_tests import (\n",
    "    trid_dict_criterion,\n",
    ")\n",
    "from estimagic.examples.criterion_functions_optimization_tests import trid_gradient\n",
    "from estimagic.examples.criterion_functions_optimization_tests import (\n",
    "    trid_pandas_gradient,\n",
    ")\n",
    "from estimagic.examples.criterion_functions_optimization_tests import (\n",
    "    trid_scalar_criterion,\n",
    ")\n",
    "from estimagic.optimization.optimize import maximize\n",
    "from estimagic.optimization.optimize import minimize"
   ]
  },
  {
   "cell_type": "code",
   "execution_count": 11,
   "id": "whole-addition",
   "metadata": {},
   "outputs": [],
   "source": [
    "params = pd.DataFrame({\"value\": [1,2,3,4]})"
   ]
  },
  {
   "cell_type": "code",
   "execution_count": 14,
   "id": "collective-height",
   "metadata": {},
   "outputs": [
    {
     "data": {
      "text/plain": [
       "-6"
      ]
     },
     "execution_count": 14,
     "metadata": {},
     "output_type": "execute_result"
    }
   ],
   "source": [
    "trid_scalar_criterion(params)"
   ]
  },
  {
   "cell_type": "code",
   "execution_count": 16,
   "id": "funky-humor",
   "metadata": {},
   "outputs": [
    {
     "data": {
      "text/plain": [
       "True"
      ]
     },
     "execution_count": 16,
     "metadata": {},
     "output_type": "execute_result"
    }
   ],
   "source": [
    "IS_DFOLS_INSTALLED"
   ]
  },
  {
   "cell_type": "code",
   "execution_count": 17,
   "id": "approximate-national",
   "metadata": {},
   "outputs": [
    {
     "data": {
      "text/plain": [
       "True"
      ]
     },
     "execution_count": 17,
     "metadata": {},
     "output_type": "execute_result"
    }
   ],
   "source": [
    "IS_PYBOBYQA_INSTALLED"
   ]
  },
  {
   "cell_type": "code",
   "execution_count": 18,
   "id": "prospective-counter",
   "metadata": {},
   "outputs": [
    {
     "data": {
      "text/plain": [
       "False"
      ]
     },
     "execution_count": 18,
     "metadata": {},
     "output_type": "execute_result"
    }
   ],
   "source": [
    "IS_PETSC4PY_INSTALLED"
   ]
  }
 ],
 "metadata": {
  "kernelspec": {
   "display_name": "scientific_computing_project",
   "language": "python",
   "name": "scientific_computing_project"
  },
  "language_info": {
   "codemirror_mode": {
    "name": "ipython",
    "version": 3
   },
   "file_extension": ".py",
   "mimetype": "text/x-python",
   "name": "python",
   "nbconvert_exporter": "python",
   "pygments_lexer": "ipython3",
   "version": "3.8.8"
  }
 },
 "nbformat": 4,
 "nbformat_minor": 5
}
